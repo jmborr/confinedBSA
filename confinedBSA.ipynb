{
 "metadata": {
  "name": "",
  "signature": "sha256:d0fbdd8ecad9efce9576721cb3e3383079e3cd6629a933e62fd031246fcc1191"
 },
 "nbformat": 3,
 "nbformat_minor": 0,
 "worksheets": [
  {
   "cells": [
    {
     "cell_type": "markdown",
     "metadata": {},
     "source": [
      "<a id='Table of Contents'></a><h2>Confined BSA</h2>  \n",
      "<a href='#goal'>Goal</a>   \n",
      "<a href='#people'>People</a>  \n",
      "\n",
      "<a id='Experiment'></a><h3>Experiment</h3>  \n",
      "<a href='#Experiment.details'>Details of the experiment</a>  \n",
      "\n",
      "<a id='Simulations'></a><h3>Simulations</h3>\n",
      "<a id='Simulations.details'></a><b>Details of the simulations</b>  \n",
      "\n",
      "<a id='meetings and reports'></a><b>Meetings</b>  \n",
      "<a href='#meetings.20160812'>Example meeting</a>  \n",
      "\n",
      "<a href='#Syntax'>HTML and Markdown Syntax Examples</a>  \n"
     ]
    },
    {
     "cell_type": "markdown",
     "metadata": {},
     "source": [
      "(<a href='#Table of Contents'>Top</a>)<a id='goal'></a><h3>Goal</h3>\n",
      "Simulate BSA confined in a silica nanopore and compare dynamics to results from QENS experimemts"
     ]
    },
    {
     "cell_type": "markdown",
     "metadata": {},
     "source": [
      "(<a href='#Table of Contents'>Top</a>)<a id='people'></a><h3>People</h3>\n",
      "Eugene Mamontov  \n",
      "Kevin Slater  \n"
     ]
    },
    {
     "cell_type": "markdown",
     "metadata": {},
     "source": [
      "(<a href='#Experiment'>Top</a>)<a id='Experiment.details'></a><h3>Details of the experiment</h3>\n",
      "\n",
      "Here goes the details"
     ]
    },
    {
     "cell_type": "markdown",
     "metadata": {},
     "source": [
      "<h2>Simulations</h2>"
     ]
    },
    {
     "cell_type": "markdown",
     "metadata": {},
     "source": [
      "(<a href='#Simulation'>Top</a>)<a id='Simulation.details'></a><h3>Details of the simulations</h3>\n",
      "\n",
      "Here goes the details"
     ]
    },
    {
     "cell_type": "markdown",
     "metadata": {},
     "source": [
      "<h2>Simulations of LiCl</h2>\n",
      "Experimental conditions were six water molecules per LiCl pair. Initially we carry out simulations only at 300K, although additional experiments were done a lower temperatures."
     ]
    },
    {
     "cell_type": "markdown",
     "metadata": {},
     "source": [
      "(<a href='#Table of Contents'>Top</a>)<a id='Syntax'></a><h3>HTML and Markdown Syntax Examples</h3>\n",
      "local link: [link](files/link)</br>\n",
      "remote link: <a href=\"http://ambermd.org/\">http://ambermd.org</a>\n",
      "<font face=\"courier new\"> font face=\"courier new\" </font><br/>\n",
      "$$S_{model}(Q,E)=A(Q)\\cdot S_{elastic}(E) + B(Q)\\cdot S_{simulation}(Q,E)\\otimes S_{elastic}(E) + C(Q)+D(Q)\\cdot E$$\n",
      "<pre> Quoted text </pre>\n",
      "<center><table><tr>\n",
      "<td><a href=\"files/image.png\"><img src=\"files/image.png\" width=\"300\" height=\"250\" alt=\"image here\"></a> <br/>\n",
      "    <i>image caption</i></td>\n",
      "<td>some text</td>\n",
      "</tr></table></center>"
     ]
    },
    {
     "cell_type": "code",
     "collapsed": false,
     "input": [],
     "language": "python",
     "metadata": {},
     "outputs": []
    }
   ],
   "metadata": {}
  }
 ]
}