{
 "metadata": {
  "name": "",
  "signature": "sha256:50dc631e4dd1c338b3fa1e13b0b6141fe9393b0203d7cbf4ce62f80eef0fdea2"
 },
 "nbformat": 3,
 "nbformat_minor": 0,
 "worksheets": [
  {
   "cells": [
    {
     "cell_type": "markdown",
     "metadata": {},
     "source": [
      "<b>Note:</b> Best viewed in the [notebook viewer](http://nbviewer.jupyter.org/github/jmborr/confinedBSA/blob/master/confinedBSA.ipynb)  \n",
      "<a id='Table of Contents'></a><h2>Confined BSA</h2>  \n",
      "<a href='#goal'>Goal</a>   \n",
      "<a href='#people'>People</a>  \n",
      "\n",
      "<a id='Experiment'></a><h3>Experiment</h3>\n",
      "<a href='#Experiment.details'>Details of the experiment</a>  \n",
      "\n",
      "<a id='Simulations'></a><h3>Simulations</h3>\n",
      "<a href='#Simulations.gromacs_tutorial'>Gromacs tutorial for solvated Lyzosime</a>  \n",
      "<a href='#Simulations.solvatedBSA'>Solvated BSA box</a>  \n",
      "<a href='#Simulations.silica'>Silica box</a>  \n",
      "<a href='#Simulations.protocol'>Protocol for initial configuration for confinedBSA</a>  \n",
      "\n",
      "<a id='meetings and reports'></a><b>Meetings</b>  \n",
      "<a href='#meetings.20160812'>Example meeting</a>  \n",
      "\n",
      "<a href='#Syntax'>HTML and Markdown Syntax Examples</a>  \n"
     ]
    },
    {
     "cell_type": "markdown",
     "metadata": {},
     "source": [
      "(<a href='#Table of Contents'>Top</a>)<a id='goal'></a><h3>Goal</h3>\n",
      "Simulate Bovine Serum Albumin (BSA) confined in a silica nanopore and compare dynamics to results from QENS experiments. The goal of the experiments is to investigate the dynamics of single protein cluster under ultra-confinement using BASIS"
     ]
    },
    {
     "cell_type": "markdown",
     "metadata": {},
     "source": [
      "(<a href='#Table of Contents'>Top</a>)<a id='people'></a><h3>People</h3>\n",
      "Eugene Mamontov  \n",
      "Kevin Slater  \n",
      "Panchao Yin  "
     ]
    },
    {
     "cell_type": "markdown",
     "metadata": {},
     "source": [
      "(<a href='#Experiment'>Top</a>)<a id='Experiment.details'></a><h3>Details of the experiment</h3>\n",
      "\n",
      "IPTS-18245 - [proposal document](files/experiment/review_sor18245.1.pdf)\n",
      "\n",
      "Two samples:  \n",
      "- DBSA: encapsulated deuterated water and hydrogenated protein.\n",
      "- HBSA: dry protein powder, containing no water (or just crystallographic) and hydrogenated protein.\n",
      "\n",
      "Susceptibility plots:\n",
      "<center><table><tr>\n",
      "<td>DBSA.jpg  <a href=\"files/experiment/Susceptibility_Dsilica_310K.JPG\"><img src=\"files/experiment/Susceptibility_Dsilica_310K.JPG\" width=\"100\"></a></td>  \n",
      "<td>HBSA.jpg  <a href=\"files/experiment/Susceptibility_HBSA_310K.JPG\"><img src=\"files/experiment/Susceptibility_HBSA_310K.JPG\" width=\"100\"></a></td>\n",
      "</tr></table></center>\n",
      "\n",
      "Comparison of MSD (label says 'Elastic Intensity' but it's wrong):  \n",
      "<center>SiO2_21A_3d_NoConnect.pdb  <a href=\"files/experiment/MSD_Dsilica_vs_HBSA_rebinned.jpg\"><img src=\"files/experiment/MSD_Dsilica_vs_HBSA_rebinned.jpg\" width=\"100\"></a></center>\n",
      "\n",
      "Maximum MSD corresponds to ~0.4A, very minimal flucuation. Thus, there is very little deuterated water surrounding the protein in the silica-encapsulated DBSA sample.  "
     ]
    },
    {
     "cell_type": "markdown",
     "metadata": {},
     "source": [
      "<h2>Simulations</h2>"
     ]
    },
    {
     "cell_type": "markdown",
     "metadata": {},
     "source": [
      "(<a href='#Simulations'>Top</a>)<a id='Simulations.gromacs_tutorial'></a><h3>Gromacs tutorial for solvated Lyzosyme</h3>\n",
      "[Link](http://www.bevanlab.biochem.vt.edu/Pages/Personal/justin/gmx-tutorials/lysozyme)  "
     ]
    },
    {
     "cell_type": "markdown",
     "metadata": {},
     "source": [
      "(<a href='#Simulations'>Top</a>)<a id='Simulations.solvatedBSA'></a><h3>Solvated BSA box</h3>\n",
      "In subdirectory <i>solvatedBSA</i>.  \n",
      "Structure [3v03.pdb](http://www.rcsb.org/pdb/explore.do?structureId=3V03) is a dimer"
     ]
    },
    {
     "cell_type": "markdown",
     "metadata": {},
     "source": [
      "(<a href='#Simulations'>Top</a>)<a id='Simulations.silica'></a><h3>Silica box</h3>\n",
      "Issue [#4](https://github.com/jmborr/confinedBSA/issues/4)\n",
      "\n",
      "Silica $(SiO_2)_N$ has a sort-range order, whereby a Si atom is located at the center of a tetrahedron, whose vertices are defined by four O atoms.  \n",
      "In subdirectory <i>silica</i> and also Materials Studio project <i>silica<i/> in virtual machine LEIOAVIRTUAL.  \n",
      "I downloaded 21A box from a [post](https://community.3dsbiovia.com/Communities_Topics?id=90650000000L9G5AAK&name=Materials+Studio&tid=09a500000004QfAAAU#/feedtype=SINGLE_QUESTION_DETAIL) in the Materials Studio community].  \n",
      "<center>SiO2_21A_3d_NoConnect.pdb  <a href=\"files/simulation/silica/SiO2_21A_3d_NoConnect.png\"><img src=\"files/simulation/silica/SiO2_21A_3d_NoConnect.png\" width=\"100\"></a></center>  \n",
      "Since the maximum diameter of BSA is ~77A, we use <i>SiO2_21A_3d_NoConnect.pdb</i> to create a 5x5x5 supercell of size ~107A. This precludes the protein from \"feeling itself\" via the periodic boundary conditions.  \n",
      "<center>SiO2_107A_3d_NoConnect.pdb  <a href=\"files/simulation/silica/SiO2_107A_3d_NoConnect.png\"><img src=\"files/simulation/silica/SiO2_107A_3d_NoConnect.png\" width=\"200\"></a><center>  \n"
     ]
    },
    {
     "cell_type": "markdown",
     "metadata": {},
     "source": [
      "(<a href='#Simulations'>Top</a>)<a id='Simulations.protocol'></a><h3>Protocol for initial configuration for confinedBSA</h3>\n",
      "Issue [#6](https://github.com/jmborr/confinedBSA/issues/6)\n",
      "A possible series of steps:\n",
      "- Solvate protein with water, and equilibrate the system.  \n",
      "- Strip all but the closest $N$ water molecules, thus selecting a particular hydration level. This is the <i>hydratedBSA</i> system.  \n",
      "- Separately, simulate a system of silica to create amorphous silica. Dimensions of this system should be the same as the solvated equilibrated sytem. This annealing simulation entails melting the silica network followed by slow cooling.  \n",
      "- Overlap the hydratedBSA system onto the silica system, then remove overlapping $SiO_2$ molecules. This is the initial confinedBSA system. This system has a broken silica network due to unpaired electrons of the $Si$ atoms close to the water+protein.  \n",
      "- Fix the silica network with an annealing process in which the water+protein atoms are held frozen.  \n",
      "- Freeze the silica network and equilibrate the water + protein. This is the initial and equilibrated confinedBSA system.\n",
      "- Run equilibrium simulations of the confinedBSA system. The silica network is always kept frozen so simulations are in the NVT ensemble.  \n"
     ]
    },
    {
     "cell_type": "markdown",
     "metadata": {},
     "source": [
      "(<a href='#Table of Contents'>Top</a>)<a id='Syntax'></a><h3>HTML and Markdown Syntax Examples</h3>\n",
      "local link: [link](files/link)</br>\n",
      "remote link: <a href=\"http://ambermd.org/\">http://ambermd.org</a>\n",
      "<font face=\"courier new\"> font face=\"courier new\" </font><br/>\n",
      "$$S_{model}(Q,E)=A(Q)\\cdot S_{elastic}(E) + B(Q)\\cdot S_{simulation}(Q,E)\\otimes S_{elastic}(E) + C(Q)+D(Q)\\cdot E$$\n",
      "<pre> Quoted text </pre>\n",
      "<center><table><tr>\n",
      "<td><a href=\"files/image.png\"><img src=\"files/image.png\" width=\"300\" height=\"250\" alt=\"image here\"></a> <br/>\n",
      "    <i>image caption</i></td>\n",
      "<td>some text</td>\n",
      "</tr></table></center>"
     ]
    },
    {
     "cell_type": "code",
     "collapsed": false,
     "input": [],
     "language": "python",
     "metadata": {},
     "outputs": []
    }
   ],
   "metadata": {}
  }
 ]
}