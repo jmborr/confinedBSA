{
 "metadata": {
  "name": "",
  "signature": "sha256:a1ef6010c2111af3f0ee79f5046b328d619c9112dc003ac32007dba0622653f7"
 },
 "nbformat": 3,
 "nbformat_minor": 0,
 "worksheets": [
  {
   "cells": [
    {
     "cell_type": "markdown",
     "metadata": {},
     "source": [
      "<a id='Table of Contents'></a><h2>Confined BSA</h2>  \n",
      "<a href='#goal'>Goal</a>   \n",
      "<a href='#people'>People</a>  \n",
      "\n",
      "<a id='Experiment'></a><h3>Experiment</h3>\n",
      "<a href='#Experiment.details'>Details of the experiment</a>  \n",
      "\n",
      "<a id='Simulations'></a><h3>Simulations</h3>\n",
      "<a href='#Simulations.gromacs_tutorial'>Gromacs tutorial for solvated Lyzosime</a>  \n",
      "\n",
      "<a id='meetings and reports'></a><b>Meetings</b>  \n",
      "<a href='#meetings.20160812'>Example meeting</a>  \n",
      "\n",
      "<a href='#Syntax'>HTML and Markdown Syntax Examples</a>  \n"
     ]
    },
    {
     "cell_type": "markdown",
     "metadata": {},
     "source": [
      "(<a href='#Table of Contents'>Top</a>)<a id='goal'></a><h3>Goal</h3>\n",
      "Simulate Bovine Serum Albumin (BSA) confined in a silica nanopore and compare dynamics to results from QENS experiments. The goal of the experiments is to investigate the dynamics of single protein cluster under ultra-confinement using BASIS"
     ]
    },
    {
     "cell_type": "markdown",
     "metadata": {},
     "source": [
      "(<a href='#Table of Contents'>Top</a>)<a id='people'></a><h3>People</h3>\n",
      "Eugene Mamontov  \n",
      "Kevin Slater  \n",
      "Panchao Yin  "
     ]
    },
    {
     "cell_type": "markdown",
     "metadata": {},
     "source": [
      "(<a href='#Experiment'>Top</a>)<a id='Experiment.details'></a><h3>Details of the experiment</h3>\n",
      "\n",
      "IPTS-18245 - [proposal document](files/experiment/review_sor18245.1.pdf)\n",
      "\n",
      "Two samples:  \n",
      "- DBSA: encapsulated deuterated water and hydrogenated protein.\n",
      "- HBSA: dry protein powder, containing no water (or just crystallographic) and hydrogenated protein.\n",
      "\n",
      "Susceptibility plots:\n",
      "<center><table><tr>\n",
      "<td>DBSA.jpg  <a href=\"files/experiment/Susceptibility_Dsilica_310K.JPG\"><img src=\"files/experiment/Susceptibility_Dsilica_310K.JPG\" width=\"100\"></a></td>  \n",
      "<td>HBSA.jpg  <a href=\"files/experiment/Susceptibility_HBSA_310K.JPG\"><img src=\"files/experiment/Susceptibility_HBSA_310K.JPG\" width=\"100\"></a></td>\n",
      "</tr></table></center>\n",
      "\n",
      "Comparison of MSD (label says 'Elastic Intensity' but it's wrong):  \n",
      "<center>MSD_DBSA_vs_HBSA_rebinned.jpg  <a href=\"files/experiment/MSD_Dsilica_vs_HBSA_rebinned.jpg\"><img src=\"files/experiment/MSD_Dsilica_vs_HBSA_rebinned.jpg\" width=\"100\"></a><center>\n",
      "\n",
      "Maximum MSD corresponds to ~0.4A, very minimal flucuation. Thus, there is very little deuterated water surrounding the protein in the silica-encapsulated DBSA sample.  "
     ]
    },
    {
     "cell_type": "markdown",
     "metadata": {},
     "source": [
      "<h2>Simulations</h2>"
     ]
    },
    {
     "cell_type": "markdown",
     "metadata": {},
     "source": [
      "(<a href='#Simulations'>Top</a>)<a id='Simulations.gromacs_tutorial'></a><h3>Gromacs tutorial for solvated Lyzosyme</h3>\n",
      "[Link](http://www.bevanlab.biochem.vt.edu/Pages/Personal/justin/gmx-tutorials/lysozyme)  "
     ]
    },
    {
     "cell_type": "markdown",
     "metadata": {},
     "source": [
      "(<a href='#Table of Contents'>Top</a>)<a id='Syntax'></a><h3>HTML and Markdown Syntax Examples</h3>\n",
      "local link: [link](files/link)</br>\n",
      "remote link: <a href=\"http://ambermd.org/\">http://ambermd.org</a>\n",
      "<font face=\"courier new\"> font face=\"courier new\" </font><br/>\n",
      "$$S_{model}(Q,E)=A(Q)\\cdot S_{elastic}(E) + B(Q)\\cdot S_{simulation}(Q,E)\\otimes S_{elastic}(E) + C(Q)+D(Q)\\cdot E$$\n",
      "<pre> Quoted text </pre>\n",
      "<center><table><tr>\n",
      "<td><a href=\"files/image.png\"><img src=\"files/image.png\" width=\"300\" height=\"250\" alt=\"image here\"></a> <br/>\n",
      "    <i>image caption</i></td>\n",
      "<td>some text</td>\n",
      "</tr></table></center>"
     ]
    },
    {
     "cell_type": "code",
     "collapsed": false,
     "input": [],
     "language": "python",
     "metadata": {},
     "outputs": []
    }
   ],
   "metadata": {}
  }
 ]
}